{
 "cells": [
  {
   "cell_type": "code",
   "execution_count": 147,
   "metadata": {
    "collapsed": true
   },
   "outputs": [],
   "source": [
    "import pandas as pd\n",
    "import numpy as np\n",
    "import warnings\n",
    "warnings.filterwarnings('ignore')\n",
    "\n",
    "from sklearn.ensemble import RandomForestClassifier\n",
    "from sklearn.ensemble import RandomForestRegressor\n",
    "\n",
    "from sklearn.model_selection import StratifiedKFold\n",
    "from sklearn.model_selection import GridSearchCV\n",
    "\n",
    "from sklearn.metrics import roc_curve\n",
    "from sklearn.metrics import make_scorer"
   ]
  },
  {
   "cell_type": "code",
   "execution_count": 148,
   "metadata": {
    "collapsed": true
   },
   "outputs": [],
   "source": [
    "#Reading 3 different CSV files 1) one with label encoding 2) one with label encoding for ordinal variables and one hot\n",
    "#encoding for categorical variables 3) onw with all categorical variables one hot encoded\n",
    "\n",
    "tot_data1=pd.read_csv(\"final_label_encoding.csv\")\n",
    "tot_data2=pd.read_csv(\"one_hot+label.csv\")\n",
    "tot_data3=pd.read_csv(\"final_one_hot.csv\")"
   ]
  },
  {
   "cell_type": "code",
   "execution_count": 149,
   "metadata": {
    "collapsed": true
   },
   "outputs": [],
   "source": [
    "#Preprocessing tot_data1\n",
    "\n",
    "train_data1=tot_data1.iloc[0:18359]\n",
    "test_data1=tot_data1.iloc[18359:]\n",
    "ids=test_data1['enrollee_id']\n",
    "target1=train_data1['target']\n",
    "train_data1.drop('target',axis=1,inplace=True)\n",
    "test_data1.drop('target',axis=1,inplace=True)\n",
    "train_data1.drop('enrollee_id',axis=1,inplace=True)\n",
    "test_data1.drop('enrollee_id',axis=1,inplace=True)"
   ]
  },
  {
   "cell_type": "code",
   "execution_count": 150,
   "metadata": {
    "collapsed": true
   },
   "outputs": [],
   "source": [
    "#Preprocessing tot_data2\n",
    "\n",
    "train_data2=tot_data2.iloc[0:18359]\n",
    "test_data2=tot_data2.iloc[18359:]\n",
    "ids=test_data2['enrollee_id']\n",
    "target2=train_data2['target']\n",
    "train_data2.drop('target',axis=1,inplace=True)\n",
    "test_data2.drop('target',axis=1,inplace=True)\n",
    "train_data2.drop('enrollee_id',axis=1,inplace=True)\n",
    "test_data2.drop('enrollee_id',axis=1,inplace=True)"
   ]
  },
  {
   "cell_type": "code",
   "execution_count": 151,
   "metadata": {
    "collapsed": true
   },
   "outputs": [],
   "source": [
    "#Preprocessing tot_data3\n",
    "\n",
    "train_data3=tot_data3.iloc[0:18359]\n",
    "test_data3=tot_data3.iloc[18359:]\n",
    "ids=test_data3['enrollee_id']\n",
    "target3=train_data3['target']\n",
    "train_data3.drop('target',axis=1,inplace=True)\n",
    "test_data3.drop('target',axis=1,inplace=True)\n",
    "train_data3.drop('enrollee_id',axis=1,inplace=True)\n",
    "test_data3.drop('enrollee_id',axis=1,inplace=True)"
   ]
  },
  {
   "cell_type": "code",
   "execution_count": null,
   "metadata": {
    "collapsed": true
   },
   "outputs": [],
   "source": [
    "#Grid Search\n",
    "\n",
    "run_gs = True\n",
    "#run_gs to true if you want to run grid search again\n",
    "\n",
    "my_scorer=make_scorer(score_func=roc_auc_score)\n",
    "\n",
    "if run_gs:\n",
    "    parameter_grid = {\n",
    "                 'criterion':['gini','entropy'],\n",
    "                 'bootstrap':[True,False],\n",
    "                 'max_depth':[7,8],\n",
    "                 'min_samples_split':[2,3,5],\n",
    "                 'min_samples_leaf':[1,3],\n",
    "                 'max_leaf_nodes':[50,100]\n",
    "        }\n",
    "    forest = RandomForestClassifier()\n",
    "    cross_validation = StratifiedKFold(n_splits=5)\n",
    "\n",
    "    grid_search = GridSearchCV(forest,\n",
    "                               scoring=my_scorer,\n",
    "                               param_grid=parameter_grid,\n",
    "                               cv=cross_validation,\n",
    "                               verbose=1\n",
    "                              )\n",
    "\n",
    "    grid_search.fit(train_data,target)\n",
    "    model = grid_search\n",
    "    parameters = grid_search.best_params_\n",
    "\n",
    "    print('Best score: {}'.format(grid_search.best_score_))\n",
    "    print('Best parameters: {}'.format(grid_search.best_params_))\n",
    "    \n",
    "else: \n",
    "    parameters = {'bootstrap': False, 'min_samples_leaf': 3, 'n_estimators': 100, \n",
    "                  'min_samples_split': 10, 'max_features': 'sqrt', 'max_depth': 6}\n",
    "    \n",
    "    model = RandomForestClassifier(**parameters)\n",
    "    model.fit(train_data, target)"
   ]
  },
  {
   "cell_type": "code",
   "execution_count": 152,
   "metadata": {
    "collapsed": true
   },
   "outputs": [],
   "source": [
    "#Random Forest Classifier model\n",
    "\n",
    "model1=RandomForestClassifier(bootstrap=False,max_depth=8,criterion='entropy',max_features='auto',min_samples_leaf=2,\n",
    "                             min_samples_split=5,n_estimators=500,max_leaf_nodes=50)"
   ]
  },
  {
   "cell_type": "code",
   "execution_count": 153,
   "metadata": {
    "collapsed": true
   },
   "outputs": [],
   "source": [
    "#Random Forest Regressor model\n",
    "\n",
    "model2=RandomForestRegressor(bootstrap=False,max_depth=8,max_features=0.5,min_samples_leaf=5,\n",
    "                             min_samples_split=5,n_estimators=500)"
   ]
  },
  {
   "cell_type": "code",
   "execution_count": 154,
   "metadata": {
    "collapsed": true
   },
   "outputs": [],
   "source": [
    "#KFold split\n",
    "\n",
    "skf=StratifiedKFold(n_splits=5,random_state=1234)"
   ]
  },
  {
   "cell_type": "code",
   "execution_count": 155,
   "metadata": {
    "collapsed": true
   },
   "outputs": [],
   "source": [
    "#DataFrame initialization for saving all models test predictions for stacking\n",
    "\n",
    "stacking_model_preds = pd.DataFrame(np.nan, index=range(0,len(test_data1)), \n",
    "                                    columns=['c1','c2','c3','c4','c5','c6'],dtype='float')"
   ]
  },
  {
   "cell_type": "code",
   "execution_count": 156,
   "metadata": {
    "collapsed": true
   },
   "outputs": [],
   "source": [
    "#Function for running KFold on all datasets\n",
    "\n",
    "def kfold_predictions(train_data,target,test_data,model,model_no):\n",
    "    score=0\n",
    "    i=0\n",
    "    test_kfolds = pd.DataFrame(np.nan, index=range(0,len(test_data)), columns=['c1','c2','c3','c4','c5'],dtype='float')\n",
    "    for train_index, test_index in skf.split(train_data,target):\n",
    "        print(\"TRAIN:\", train_index, \"TEST:\", test_index)\n",
    "        X_train, X_test = train_data.iloc[train_index], train_data.iloc[test_index]\n",
    "        y_train, y_test = target[train_index], target[test_index]\n",
    "    \n",
    "        \n",
    "    \n",
    "        if model=='classifier':\n",
    "            model1.fit(X=X_train,y=y_train)\n",
    "            pred=model1.predict_proba(test_data)[:,1]\n",
    "        else:\n",
    "            model2.fit(X=X_train,y=y_train)\n",
    "            pred=model2.predict(test_data)\n",
    "            \n",
    "        pred=pred.reshape([-1,1])\n",
    "        \n",
    "        test_kfolds.iloc[:,i]=pred\n",
    "        i=i+1\n",
    "        \n",
    "    test_kfolds=np.mean(a=test_kfolds,axis=1)\n",
    "    test_kfolds=test_kfolds.tolist()\n",
    "\n",
    "    stacking_model_preds.iloc[:,model_no]=test_kfolds"
   ]
  },
  {
   "cell_type": "code",
   "execution_count": 157,
   "metadata": {},
   "outputs": [
    {
     "name": "stdout",
     "output_type": "stream",
     "text": [
      "TRAIN: [ 3477  3488  3504 ..., 18356 18357 18358] TEST: [   0    1    2 ..., 3695 3696 3697]\n",
      "TRAIN: [    0     1     2 ..., 18356 18357 18358] TEST: [3477 3488 3504 ..., 7350 7351 7352]\n",
      "TRAIN: [    0     1     2 ..., 18356 18357 18358] TEST: [ 7286  7297  7315 ..., 11021 11022 11024]\n",
      "TRAIN: [    0     1     2 ..., 18356 18357 18358] TEST: [10957 10970 10979 ..., 14691 14692 14693]\n",
      "TRAIN: [    0     1     2 ..., 14691 14692 14693] TEST: [14647 14648 14674 ..., 18356 18357 18358]\n",
      "TRAIN: [ 3477  3488  3504 ..., 18356 18357 18358] TEST: [   0    1    2 ..., 3695 3696 3697]\n",
      "TRAIN: [    0     1     2 ..., 18356 18357 18358] TEST: [3477 3488 3504 ..., 7350 7351 7352]\n",
      "TRAIN: [    0     1     2 ..., 18356 18357 18358] TEST: [ 7286  7297  7315 ..., 11021 11022 11024]\n",
      "TRAIN: [    0     1     2 ..., 18356 18357 18358] TEST: [10957 10970 10979 ..., 14691 14692 14693]\n",
      "TRAIN: [    0     1     2 ..., 14691 14692 14693] TEST: [14647 14648 14674 ..., 18356 18357 18358]\n",
      "TRAIN: [ 3477  3488  3504 ..., 18356 18357 18358] TEST: [   0    1    2 ..., 3695 3696 3697]\n",
      "TRAIN: [    0     1     2 ..., 18356 18357 18358] TEST: [3477 3488 3504 ..., 7350 7351 7352]\n",
      "TRAIN: [    0     1     2 ..., 18356 18357 18358] TEST: [ 7286  7297  7315 ..., 11021 11022 11024]\n",
      "TRAIN: [    0     1     2 ..., 18356 18357 18358] TEST: [10957 10970 10979 ..., 14691 14692 14693]\n",
      "TRAIN: [    0     1     2 ..., 14691 14692 14693] TEST: [14647 14648 14674 ..., 18356 18357 18358]\n",
      "TRAIN: [ 3477  3488  3504 ..., 18356 18357 18358] TEST: [   0    1    2 ..., 3695 3696 3697]\n",
      "TRAIN: [    0     1     2 ..., 18356 18357 18358] TEST: [3477 3488 3504 ..., 7350 7351 7352]\n",
      "TRAIN: [    0     1     2 ..., 18356 18357 18358] TEST: [ 7286  7297  7315 ..., 11021 11022 11024]\n",
      "TRAIN: [    0     1     2 ..., 18356 18357 18358] TEST: [10957 10970 10979 ..., 14691 14692 14693]\n",
      "TRAIN: [    0     1     2 ..., 14691 14692 14693] TEST: [14647 14648 14674 ..., 18356 18357 18358]\n",
      "TRAIN: [ 3477  3488  3504 ..., 18356 18357 18358] TEST: [   0    1    2 ..., 3695 3696 3697]\n",
      "TRAIN: [    0     1     2 ..., 18356 18357 18358] TEST: [3477 3488 3504 ..., 7350 7351 7352]\n",
      "TRAIN: [    0     1     2 ..., 18356 18357 18358] TEST: [ 7286  7297  7315 ..., 11021 11022 11024]\n",
      "TRAIN: [    0     1     2 ..., 18356 18357 18358] TEST: [10957 10970 10979 ..., 14691 14692 14693]\n",
      "TRAIN: [    0     1     2 ..., 14691 14692 14693] TEST: [14647 14648 14674 ..., 18356 18357 18358]\n",
      "TRAIN: [ 3477  3488  3504 ..., 18356 18357 18358] TEST: [   0    1    2 ..., 3695 3696 3697]\n",
      "TRAIN: [    0     1     2 ..., 18356 18357 18358] TEST: [3477 3488 3504 ..., 7350 7351 7352]\n",
      "TRAIN: [    0     1     2 ..., 18356 18357 18358] TEST: [ 7286  7297  7315 ..., 11021 11022 11024]\n",
      "TRAIN: [    0     1     2 ..., 18356 18357 18358] TEST: [10957 10970 10979 ..., 14691 14692 14693]\n",
      "TRAIN: [    0     1     2 ..., 14691 14692 14693] TEST: [14647 14648 14674 ..., 18356 18357 18358]\n"
     ]
    }
   ],
   "source": [
    "#Running different models\n",
    "\n",
    "kfold_predictions(train_data1,target1,test_data1,'classifier',0)\n",
    "kfold_predictions(train_data2,target2,test_data2,'classifier',1)\n",
    "kfold_predictions(train_data3,target3,test_data3,'classifier',2)\n",
    "kfold_predictions(train_data1,target1,test_data1,'regressor',3)\n",
    "kfold_predictions(train_data2,target2,test_data2,'regressor',4)\n",
    "kfold_predictions(train_data3,target3,test_data3,'regressor',5)\n"
   ]
  },
  {
   "cell_type": "code",
   "execution_count": 158,
   "metadata": {},
   "outputs": [
    {
     "data": {
      "text/html": [
       "<div>\n",
       "<style>\n",
       "    .dataframe thead tr:only-child th {\n",
       "        text-align: right;\n",
       "    }\n",
       "\n",
       "    .dataframe thead th {\n",
       "        text-align: left;\n",
       "    }\n",
       "\n",
       "    .dataframe tbody tr th {\n",
       "        vertical-align: top;\n",
       "    }\n",
       "</style>\n",
       "<table border=\"1\" class=\"dataframe\">\n",
       "  <thead>\n",
       "    <tr style=\"text-align: right;\">\n",
       "      <th></th>\n",
       "      <th>c1</th>\n",
       "      <th>c2</th>\n",
       "      <th>c3</th>\n",
       "      <th>c4</th>\n",
       "      <th>c5</th>\n",
       "      <th>c6</th>\n",
       "    </tr>\n",
       "  </thead>\n",
       "  <tbody>\n",
       "    <tr>\n",
       "      <th>0</th>\n",
       "      <td>0.583913</td>\n",
       "      <td>0.570295</td>\n",
       "      <td>0.595526</td>\n",
       "      <td>0.618597</td>\n",
       "      <td>0.658254</td>\n",
       "      <td>0.643062</td>\n",
       "    </tr>\n",
       "    <tr>\n",
       "      <th>1</th>\n",
       "      <td>0.072815</td>\n",
       "      <td>0.074030</td>\n",
       "      <td>0.074693</td>\n",
       "      <td>0.064489</td>\n",
       "      <td>0.067017</td>\n",
       "      <td>0.070965</td>\n",
       "    </tr>\n",
       "    <tr>\n",
       "      <th>2</th>\n",
       "      <td>0.353955</td>\n",
       "      <td>0.355345</td>\n",
       "      <td>0.355125</td>\n",
       "      <td>0.348376</td>\n",
       "      <td>0.348719</td>\n",
       "      <td>0.350436</td>\n",
       "    </tr>\n",
       "    <tr>\n",
       "      <th>3</th>\n",
       "      <td>0.068545</td>\n",
       "      <td>0.067629</td>\n",
       "      <td>0.065346</td>\n",
       "      <td>0.062225</td>\n",
       "      <td>0.062659</td>\n",
       "      <td>0.063898</td>\n",
       "    </tr>\n",
       "    <tr>\n",
       "      <th>4</th>\n",
       "      <td>0.058761</td>\n",
       "      <td>0.059198</td>\n",
       "      <td>0.063405</td>\n",
       "      <td>0.062875</td>\n",
       "      <td>0.067552</td>\n",
       "      <td>0.069399</td>\n",
       "    </tr>\n",
       "  </tbody>\n",
       "</table>\n",
       "</div>"
      ],
      "text/plain": [
       "         c1        c2        c3        c4        c5        c6\n",
       "0  0.583913  0.570295  0.595526  0.618597  0.658254  0.643062\n",
       "1  0.072815  0.074030  0.074693  0.064489  0.067017  0.070965\n",
       "2  0.353955  0.355345  0.355125  0.348376  0.348719  0.350436\n",
       "3  0.068545  0.067629  0.065346  0.062225  0.062659  0.063898\n",
       "4  0.058761  0.059198  0.063405  0.062875  0.067552  0.069399"
      ]
     },
     "execution_count": 158,
     "metadata": {},
     "output_type": "execute_result"
    }
   ],
   "source": [
    "stacking_model_preds.head()"
   ]
  },
  {
   "cell_type": "code",
   "execution_count": 159,
   "metadata": {
    "collapsed": true
   },
   "outputs": [],
   "source": [
    "#Stacking - mean of all test predictions\n",
    "\n",
    "predictions=np.mean(a=stacking_model_preds,axis=1)\n",
    "predictions=predictions.tolist()"
   ]
  },
  {
   "cell_type": "code",
   "execution_count": 160,
   "metadata": {
    "collapsed": true
   },
   "outputs": [],
   "source": [
    "#To Dataframe\n",
    "\n",
    "sub=pd.DataFrame({'enrollee_id':ids,'target':predictions})"
   ]
  },
  {
   "cell_type": "code",
   "execution_count": 161,
   "metadata": {
    "collapsed": true
   },
   "outputs": [],
   "source": [
    "sub.to_csv(\"predictions_rf.csv\",index=False)"
   ]
  }
 ],
 "metadata": {
  "kernelspec": {
   "display_name": "Python 3",
   "language": "python",
   "name": "python3"
  },
  "language_info": {
   "codemirror_mode": {
    "name": "ipython",
    "version": 3
   },
   "file_extension": ".py",
   "mimetype": "text/x-python",
   "name": "python",
   "nbconvert_exporter": "python",
   "pygments_lexer": "ipython3",
   "version": "3.6.3"
  }
 },
 "nbformat": 4,
 "nbformat_minor": 2
}
